{
  "nbformat": 4,
  "nbformat_minor": 0,
  "metadata": {
    "colab": {
      "name": "Funciones.ipynb",
      "provenance": [],
      "authorship_tag": "ABX9TyOWy+kRJLz5SJy4Y7x1j8hT",
      "include_colab_link": true
    },
    "kernelspec": {
      "name": "python3",
      "display_name": "Python 3"
    },
    "language_info": {
      "name": "python"
    }
  },
  "cells": [
    {
      "cell_type": "markdown",
      "metadata": {
        "id": "view-in-github",
        "colab_type": "text"
      },
      "source": [
        "<a href=\"https://colab.research.google.com/github/JosefinaArayaTapia/CursoPandas/blob/main/Funciones.ipynb\" target=\"_parent\"><img src=\"https://colab.research.google.com/assets/colab-badge.svg\" alt=\"Open In Colab\"/></a>"
      ]
    },
    {
      "cell_type": "code",
      "metadata": {
        "colab": {
          "base_uri": "https://localhost:8080/",
          "height": 35
        },
        "id": "95QdZL8QtRce",
        "outputId": "29437efc-de5d-49e6-9ede-9de8e1663bc0"
      },
      "source": [
        "import pandas as pd\n",
        "import numpy as np\n",
        "pd.__version__"
      ],
      "execution_count": null,
      "outputs": [
        {
          "output_type": "execute_result",
          "data": {
            "application/vnd.google.colaboratory.intrinsic+json": {
              "type": "string"
            },
            "text/plain": [
              "'1.1.5'"
            ]
          },
          "metadata": {
            "tags": []
          },
          "execution_count": 1
        }
      ]
    },
    {
      "cell_type": "code",
      "metadata": {
        "colab": {
          "base_uri": "https://localhost:8080/"
        },
        "id": "F1CblxJYt6K-",
        "outputId": "2e0946af-0dbe-4b95-e24a-b45297981fc4"
      },
      "source": [
        "from google.colab import drive\n",
        "\n",
        "drive.mount(\"/content/drive\")"
      ],
      "execution_count": null,
      "outputs": [
        {
          "output_type": "stream",
          "text": [
            "Mounted at /content/drive\n"
          ],
          "name": "stdout"
        }
      ]
    },
    {
      "cell_type": "code",
      "metadata": {
        "colab": {
          "base_uri": "https://localhost:8080/",
          "height": 35
        },
        "id": "muxNu52Mt6Nc",
        "outputId": "62d8cd9c-10fd-4af4-8ef3-deae5ec93fd0"
      },
      "source": [
        "dir_pandas = '/content/drive/My Drive/Colab Notebooks/db/{}'\n",
        "dir_pandas"
      ],
      "execution_count": null,
      "outputs": [
        {
          "output_type": "execute_result",
          "data": {
            "application/vnd.google.colaboratory.intrinsic+json": {
              "type": "string"
            },
            "text/plain": [
              "'/content/drive/My Drive/Colab Notebooks/db/{}'"
            ]
          },
          "metadata": {
            "tags": []
          },
          "execution_count": 3
        }
      ]
    },
    {
      "cell_type": "code",
      "metadata": {
        "colab": {
          "base_uri": "https://localhost:8080/",
          "height": 419
        },
        "id": "OQEGTaebt6Pc",
        "outputId": "0d8c9a15-c6cb-4e46-a8f5-c50a8cbdce6b"
      },
      "source": [
        "df_london_bike=pd.read_csv(dir_pandas.format('london_merged.csv'))\n",
        "df_london_bike"
      ],
      "execution_count": null,
      "outputs": [
        {
          "output_type": "execute_result",
          "data": {
            "text/html": [
              "<div>\n",
              "<style scoped>\n",
              "    .dataframe tbody tr th:only-of-type {\n",
              "        vertical-align: middle;\n",
              "    }\n",
              "\n",
              "    .dataframe tbody tr th {\n",
              "        vertical-align: top;\n",
              "    }\n",
              "\n",
              "    .dataframe thead th {\n",
              "        text-align: right;\n",
              "    }\n",
              "</style>\n",
              "<table border=\"1\" class=\"dataframe\">\n",
              "  <thead>\n",
              "    <tr style=\"text-align: right;\">\n",
              "      <th></th>\n",
              "      <th>timestamp</th>\n",
              "      <th>cnt</th>\n",
              "      <th>t1</th>\n",
              "      <th>t2</th>\n",
              "      <th>hum</th>\n",
              "      <th>wind_speed</th>\n",
              "      <th>weather_code</th>\n",
              "      <th>is_holiday</th>\n",
              "      <th>is_weekend</th>\n",
              "      <th>season</th>\n",
              "    </tr>\n",
              "  </thead>\n",
              "  <tbody>\n",
              "    <tr>\n",
              "      <th>0</th>\n",
              "      <td>2015-01-04 00:00:00</td>\n",
              "      <td>182</td>\n",
              "      <td>3.0</td>\n",
              "      <td>2.0</td>\n",
              "      <td>93.0</td>\n",
              "      <td>6.0</td>\n",
              "      <td>3.0</td>\n",
              "      <td>0.0</td>\n",
              "      <td>1.0</td>\n",
              "      <td>3.0</td>\n",
              "    </tr>\n",
              "    <tr>\n",
              "      <th>1</th>\n",
              "      <td>2015-01-04 01:00:00</td>\n",
              "      <td>138</td>\n",
              "      <td>3.0</td>\n",
              "      <td>2.5</td>\n",
              "      <td>93.0</td>\n",
              "      <td>5.0</td>\n",
              "      <td>1.0</td>\n",
              "      <td>0.0</td>\n",
              "      <td>1.0</td>\n",
              "      <td>3.0</td>\n",
              "    </tr>\n",
              "    <tr>\n",
              "      <th>2</th>\n",
              "      <td>2015-01-04 02:00:00</td>\n",
              "      <td>134</td>\n",
              "      <td>2.5</td>\n",
              "      <td>2.5</td>\n",
              "      <td>96.5</td>\n",
              "      <td>0.0</td>\n",
              "      <td>1.0</td>\n",
              "      <td>0.0</td>\n",
              "      <td>1.0</td>\n",
              "      <td>3.0</td>\n",
              "    </tr>\n",
              "    <tr>\n",
              "      <th>3</th>\n",
              "      <td>2015-01-04 03:00:00</td>\n",
              "      <td>72</td>\n",
              "      <td>2.0</td>\n",
              "      <td>2.0</td>\n",
              "      <td>100.0</td>\n",
              "      <td>0.0</td>\n",
              "      <td>1.0</td>\n",
              "      <td>0.0</td>\n",
              "      <td>1.0</td>\n",
              "      <td>3.0</td>\n",
              "    </tr>\n",
              "    <tr>\n",
              "      <th>4</th>\n",
              "      <td>2015-01-04 04:00:00</td>\n",
              "      <td>47</td>\n",
              "      <td>2.0</td>\n",
              "      <td>0.0</td>\n",
              "      <td>93.0</td>\n",
              "      <td>6.5</td>\n",
              "      <td>1.0</td>\n",
              "      <td>0.0</td>\n",
              "      <td>1.0</td>\n",
              "      <td>3.0</td>\n",
              "    </tr>\n",
              "    <tr>\n",
              "      <th>...</th>\n",
              "      <td>...</td>\n",
              "      <td>...</td>\n",
              "      <td>...</td>\n",
              "      <td>...</td>\n",
              "      <td>...</td>\n",
              "      <td>...</td>\n",
              "      <td>...</td>\n",
              "      <td>...</td>\n",
              "      <td>...</td>\n",
              "      <td>...</td>\n",
              "    </tr>\n",
              "    <tr>\n",
              "      <th>17409</th>\n",
              "      <td>2017-01-03 19:00:00</td>\n",
              "      <td>1042</td>\n",
              "      <td>5.0</td>\n",
              "      <td>1.0</td>\n",
              "      <td>81.0</td>\n",
              "      <td>19.0</td>\n",
              "      <td>3.0</td>\n",
              "      <td>0.0</td>\n",
              "      <td>0.0</td>\n",
              "      <td>3.0</td>\n",
              "    </tr>\n",
              "    <tr>\n",
              "      <th>17410</th>\n",
              "      <td>2017-01-03 20:00:00</td>\n",
              "      <td>541</td>\n",
              "      <td>5.0</td>\n",
              "      <td>1.0</td>\n",
              "      <td>81.0</td>\n",
              "      <td>21.0</td>\n",
              "      <td>4.0</td>\n",
              "      <td>0.0</td>\n",
              "      <td>0.0</td>\n",
              "      <td>3.0</td>\n",
              "    </tr>\n",
              "    <tr>\n",
              "      <th>17411</th>\n",
              "      <td>2017-01-03 21:00:00</td>\n",
              "      <td>337</td>\n",
              "      <td>5.5</td>\n",
              "      <td>1.5</td>\n",
              "      <td>78.5</td>\n",
              "      <td>24.0</td>\n",
              "      <td>4.0</td>\n",
              "      <td>0.0</td>\n",
              "      <td>0.0</td>\n",
              "      <td>3.0</td>\n",
              "    </tr>\n",
              "    <tr>\n",
              "      <th>17412</th>\n",
              "      <td>2017-01-03 22:00:00</td>\n",
              "      <td>224</td>\n",
              "      <td>5.5</td>\n",
              "      <td>1.5</td>\n",
              "      <td>76.0</td>\n",
              "      <td>23.0</td>\n",
              "      <td>4.0</td>\n",
              "      <td>0.0</td>\n",
              "      <td>0.0</td>\n",
              "      <td>3.0</td>\n",
              "    </tr>\n",
              "    <tr>\n",
              "      <th>17413</th>\n",
              "      <td>2017-01-03 23:00:00</td>\n",
              "      <td>139</td>\n",
              "      <td>5.0</td>\n",
              "      <td>1.0</td>\n",
              "      <td>76.0</td>\n",
              "      <td>22.0</td>\n",
              "      <td>2.0</td>\n",
              "      <td>0.0</td>\n",
              "      <td>0.0</td>\n",
              "      <td>3.0</td>\n",
              "    </tr>\n",
              "  </tbody>\n",
              "</table>\n",
              "<p>17414 rows × 10 columns</p>\n",
              "</div>"
            ],
            "text/plain": [
              "                 timestamp   cnt   t1  ...  is_holiday  is_weekend  season\n",
              "0      2015-01-04 00:00:00   182  3.0  ...         0.0         1.0     3.0\n",
              "1      2015-01-04 01:00:00   138  3.0  ...         0.0         1.0     3.0\n",
              "2      2015-01-04 02:00:00   134  2.5  ...         0.0         1.0     3.0\n",
              "3      2015-01-04 03:00:00    72  2.0  ...         0.0         1.0     3.0\n",
              "4      2015-01-04 04:00:00    47  2.0  ...         0.0         1.0     3.0\n",
              "...                    ...   ...  ...  ...         ...         ...     ...\n",
              "17409  2017-01-03 19:00:00  1042  5.0  ...         0.0         0.0     3.0\n",
              "17410  2017-01-03 20:00:00   541  5.0  ...         0.0         0.0     3.0\n",
              "17411  2017-01-03 21:00:00   337  5.5  ...         0.0         0.0     3.0\n",
              "17412  2017-01-03 22:00:00   224  5.5  ...         0.0         0.0     3.0\n",
              "17413  2017-01-03 23:00:00   139  5.0  ...         0.0         0.0     3.0\n",
              "\n",
              "[17414 rows x 10 columns]"
            ]
          },
          "metadata": {
            "tags": []
          },
          "execution_count": 4
        }
      ]
    },
    {
      "cell_type": "code",
      "metadata": {
        "colab": {
          "base_uri": "https://localhost:8080/"
        },
        "id": "AP4hhT1Yt6Rt",
        "outputId": "d8e972eb-09b1-4b56-e021-92a62d8bd11c"
      },
      "source": [
        "df_london_bike.dtypes"
      ],
      "execution_count": null,
      "outputs": [
        {
          "output_type": "execute_result",
          "data": {
            "text/plain": [
              "timestamp       datetime64[ns]\n",
              "cnt                      int64\n",
              "t1                     float64\n",
              "t2                     float64\n",
              "hum                    float64\n",
              "wind_speed             float64\n",
              "weather_code           float64\n",
              "is_holiday             float64\n",
              "is_weekend             float64\n",
              "season                 float64\n",
              "dtype: object"
            ]
          },
          "metadata": {
            "tags": []
          },
          "execution_count": 7
        }
      ]
    },
    {
      "cell_type": "code",
      "metadata": {
        "id": "6uEVBSPxvTEd"
      },
      "source": [
        "df_london_bike['timestamp']=pd.to_datetime(df_london_bike['timestamp'])"
      ],
      "execution_count": null,
      "outputs": []
    },
    {
      "cell_type": "code",
      "metadata": {
        "colab": {
          "base_uri": "https://localhost:8080/",
          "height": 419
        },
        "id": "f8OoF0JPvTGr",
        "outputId": "0466ee96-3335-48a9-dbdd-c35ee13dea03"
      },
      "source": [
        "df_london_bike"
      ],
      "execution_count": null,
      "outputs": [
        {
          "output_type": "execute_result",
          "data": {
            "text/html": [
              "<div>\n",
              "<style scoped>\n",
              "    .dataframe tbody tr th:only-of-type {\n",
              "        vertical-align: middle;\n",
              "    }\n",
              "\n",
              "    .dataframe tbody tr th {\n",
              "        vertical-align: top;\n",
              "    }\n",
              "\n",
              "    .dataframe thead th {\n",
              "        text-align: right;\n",
              "    }\n",
              "</style>\n",
              "<table border=\"1\" class=\"dataframe\">\n",
              "  <thead>\n",
              "    <tr style=\"text-align: right;\">\n",
              "      <th></th>\n",
              "      <th>timestamp</th>\n",
              "      <th>cnt</th>\n",
              "      <th>t1</th>\n",
              "      <th>t2</th>\n",
              "      <th>hum</th>\n",
              "      <th>wind_speed</th>\n",
              "      <th>weather_code</th>\n",
              "      <th>is_holiday</th>\n",
              "      <th>is_weekend</th>\n",
              "      <th>season</th>\n",
              "    </tr>\n",
              "  </thead>\n",
              "  <tbody>\n",
              "    <tr>\n",
              "      <th>0</th>\n",
              "      <td>2015-01-04 00:00:00</td>\n",
              "      <td>182</td>\n",
              "      <td>3.0</td>\n",
              "      <td>2.0</td>\n",
              "      <td>93.0</td>\n",
              "      <td>6.0</td>\n",
              "      <td>3.0</td>\n",
              "      <td>0.0</td>\n",
              "      <td>1.0</td>\n",
              "      <td>3.0</td>\n",
              "    </tr>\n",
              "    <tr>\n",
              "      <th>1</th>\n",
              "      <td>2015-01-04 01:00:00</td>\n",
              "      <td>138</td>\n",
              "      <td>3.0</td>\n",
              "      <td>2.5</td>\n",
              "      <td>93.0</td>\n",
              "      <td>5.0</td>\n",
              "      <td>1.0</td>\n",
              "      <td>0.0</td>\n",
              "      <td>1.0</td>\n",
              "      <td>3.0</td>\n",
              "    </tr>\n",
              "    <tr>\n",
              "      <th>2</th>\n",
              "      <td>2015-01-04 02:00:00</td>\n",
              "      <td>134</td>\n",
              "      <td>2.5</td>\n",
              "      <td>2.5</td>\n",
              "      <td>96.5</td>\n",
              "      <td>0.0</td>\n",
              "      <td>1.0</td>\n",
              "      <td>0.0</td>\n",
              "      <td>1.0</td>\n",
              "      <td>3.0</td>\n",
              "    </tr>\n",
              "    <tr>\n",
              "      <th>3</th>\n",
              "      <td>2015-01-04 03:00:00</td>\n",
              "      <td>72</td>\n",
              "      <td>2.0</td>\n",
              "      <td>2.0</td>\n",
              "      <td>100.0</td>\n",
              "      <td>0.0</td>\n",
              "      <td>1.0</td>\n",
              "      <td>0.0</td>\n",
              "      <td>1.0</td>\n",
              "      <td>3.0</td>\n",
              "    </tr>\n",
              "    <tr>\n",
              "      <th>4</th>\n",
              "      <td>2015-01-04 04:00:00</td>\n",
              "      <td>47</td>\n",
              "      <td>2.0</td>\n",
              "      <td>0.0</td>\n",
              "      <td>93.0</td>\n",
              "      <td>6.5</td>\n",
              "      <td>1.0</td>\n",
              "      <td>0.0</td>\n",
              "      <td>1.0</td>\n",
              "      <td>3.0</td>\n",
              "    </tr>\n",
              "    <tr>\n",
              "      <th>...</th>\n",
              "      <td>...</td>\n",
              "      <td>...</td>\n",
              "      <td>...</td>\n",
              "      <td>...</td>\n",
              "      <td>...</td>\n",
              "      <td>...</td>\n",
              "      <td>...</td>\n",
              "      <td>...</td>\n",
              "      <td>...</td>\n",
              "      <td>...</td>\n",
              "    </tr>\n",
              "    <tr>\n",
              "      <th>17409</th>\n",
              "      <td>2017-01-03 19:00:00</td>\n",
              "      <td>1042</td>\n",
              "      <td>5.0</td>\n",
              "      <td>1.0</td>\n",
              "      <td>81.0</td>\n",
              "      <td>19.0</td>\n",
              "      <td>3.0</td>\n",
              "      <td>0.0</td>\n",
              "      <td>0.0</td>\n",
              "      <td>3.0</td>\n",
              "    </tr>\n",
              "    <tr>\n",
              "      <th>17410</th>\n",
              "      <td>2017-01-03 20:00:00</td>\n",
              "      <td>541</td>\n",
              "      <td>5.0</td>\n",
              "      <td>1.0</td>\n",
              "      <td>81.0</td>\n",
              "      <td>21.0</td>\n",
              "      <td>4.0</td>\n",
              "      <td>0.0</td>\n",
              "      <td>0.0</td>\n",
              "      <td>3.0</td>\n",
              "    </tr>\n",
              "    <tr>\n",
              "      <th>17411</th>\n",
              "      <td>2017-01-03 21:00:00</td>\n",
              "      <td>337</td>\n",
              "      <td>5.5</td>\n",
              "      <td>1.5</td>\n",
              "      <td>78.5</td>\n",
              "      <td>24.0</td>\n",
              "      <td>4.0</td>\n",
              "      <td>0.0</td>\n",
              "      <td>0.0</td>\n",
              "      <td>3.0</td>\n",
              "    </tr>\n",
              "    <tr>\n",
              "      <th>17412</th>\n",
              "      <td>2017-01-03 22:00:00</td>\n",
              "      <td>224</td>\n",
              "      <td>5.5</td>\n",
              "      <td>1.5</td>\n",
              "      <td>76.0</td>\n",
              "      <td>23.0</td>\n",
              "      <td>4.0</td>\n",
              "      <td>0.0</td>\n",
              "      <td>0.0</td>\n",
              "      <td>3.0</td>\n",
              "    </tr>\n",
              "    <tr>\n",
              "      <th>17413</th>\n",
              "      <td>2017-01-03 23:00:00</td>\n",
              "      <td>139</td>\n",
              "      <td>5.0</td>\n",
              "      <td>1.0</td>\n",
              "      <td>76.0</td>\n",
              "      <td>22.0</td>\n",
              "      <td>2.0</td>\n",
              "      <td>0.0</td>\n",
              "      <td>0.0</td>\n",
              "      <td>3.0</td>\n",
              "    </tr>\n",
              "  </tbody>\n",
              "</table>\n",
              "<p>17414 rows × 10 columns</p>\n",
              "</div>"
            ],
            "text/plain": [
              "                timestamp   cnt   t1  ...  is_holiday  is_weekend  season\n",
              "0     2015-01-04 00:00:00   182  3.0  ...         0.0         1.0     3.0\n",
              "1     2015-01-04 01:00:00   138  3.0  ...         0.0         1.0     3.0\n",
              "2     2015-01-04 02:00:00   134  2.5  ...         0.0         1.0     3.0\n",
              "3     2015-01-04 03:00:00    72  2.0  ...         0.0         1.0     3.0\n",
              "4     2015-01-04 04:00:00    47  2.0  ...         0.0         1.0     3.0\n",
              "...                   ...   ...  ...  ...         ...         ...     ...\n",
              "17409 2017-01-03 19:00:00  1042  5.0  ...         0.0         0.0     3.0\n",
              "17410 2017-01-03 20:00:00   541  5.0  ...         0.0         0.0     3.0\n",
              "17411 2017-01-03 21:00:00   337  5.5  ...         0.0         0.0     3.0\n",
              "17412 2017-01-03 22:00:00   224  5.5  ...         0.0         0.0     3.0\n",
              "17413 2017-01-03 23:00:00   139  5.0  ...         0.0         0.0     3.0\n",
              "\n",
              "[17414 rows x 10 columns]"
            ]
          },
          "metadata": {
            "tags": []
          },
          "execution_count": 8
        }
      ]
    },
    {
      "cell_type": "code",
      "metadata": {
        "id": "94HHqOO2vTJT"
      },
      "source": [
        "df_london_bike['hour'] = df_london_bike['timestamp'].dt.hour"
      ],
      "execution_count": null,
      "outputs": []
    },
    {
      "cell_type": "code",
      "metadata": {
        "colab": {
          "base_uri": "https://localhost:8080/",
          "height": 235
        },
        "id": "V1MwMbY_vTLe",
        "outputId": "f7476192-6ee0-4fa3-babe-390e8d4741a4"
      },
      "source": [
        "df_london_bike.sample(6)"
      ],
      "execution_count": null,
      "outputs": [
        {
          "output_type": "execute_result",
          "data": {
            "text/html": [
              "<div>\n",
              "<style scoped>\n",
              "    .dataframe tbody tr th:only-of-type {\n",
              "        vertical-align: middle;\n",
              "    }\n",
              "\n",
              "    .dataframe tbody tr th {\n",
              "        vertical-align: top;\n",
              "    }\n",
              "\n",
              "    .dataframe thead th {\n",
              "        text-align: right;\n",
              "    }\n",
              "</style>\n",
              "<table border=\"1\" class=\"dataframe\">\n",
              "  <thead>\n",
              "    <tr style=\"text-align: right;\">\n",
              "      <th></th>\n",
              "      <th>timestamp</th>\n",
              "      <th>cnt</th>\n",
              "      <th>t1</th>\n",
              "      <th>t2</th>\n",
              "      <th>hum</th>\n",
              "      <th>wind_speed</th>\n",
              "      <th>weather_code</th>\n",
              "      <th>is_holiday</th>\n",
              "      <th>is_weekend</th>\n",
              "      <th>season</th>\n",
              "      <th>hour</th>\n",
              "    </tr>\n",
              "  </thead>\n",
              "  <tbody>\n",
              "    <tr>\n",
              "      <th>12194</th>\n",
              "      <td>2016-05-28 23:00:00</td>\n",
              "      <td>789</td>\n",
              "      <td>14.0</td>\n",
              "      <td>14.0</td>\n",
              "      <td>74.5</td>\n",
              "      <td>13.0</td>\n",
              "      <td>1.0</td>\n",
              "      <td>0.0</td>\n",
              "      <td>1.0</td>\n",
              "      <td>0.0</td>\n",
              "      <td>23</td>\n",
              "    </tr>\n",
              "    <tr>\n",
              "      <th>17198</th>\n",
              "      <td>2016-12-26 00:00:00</td>\n",
              "      <td>371</td>\n",
              "      <td>13.0</td>\n",
              "      <td>13.0</td>\n",
              "      <td>77.0</td>\n",
              "      <td>31.5</td>\n",
              "      <td>3.0</td>\n",
              "      <td>1.0</td>\n",
              "      <td>0.0</td>\n",
              "      <td>3.0</td>\n",
              "      <td>0</td>\n",
              "    </tr>\n",
              "    <tr>\n",
              "      <th>11544</th>\n",
              "      <td>2016-05-01 21:00:00</td>\n",
              "      <td>601</td>\n",
              "      <td>12.0</td>\n",
              "      <td>12.0</td>\n",
              "      <td>63.0</td>\n",
              "      <td>16.0</td>\n",
              "      <td>1.0</td>\n",
              "      <td>0.0</td>\n",
              "      <td>1.0</td>\n",
              "      <td>0.0</td>\n",
              "      <td>21</td>\n",
              "    </tr>\n",
              "    <tr>\n",
              "      <th>2831</th>\n",
              "      <td>2015-05-02 07:00:00</td>\n",
              "      <td>215</td>\n",
              "      <td>7.5</td>\n",
              "      <td>4.5</td>\n",
              "      <td>78.5</td>\n",
              "      <td>16.0</td>\n",
              "      <td>3.0</td>\n",
              "      <td>0.0</td>\n",
              "      <td>1.0</td>\n",
              "      <td>0.0</td>\n",
              "      <td>7</td>\n",
              "    </tr>\n",
              "    <tr>\n",
              "      <th>11661</th>\n",
              "      <td>2016-05-06 18:00:00</td>\n",
              "      <td>4136</td>\n",
              "      <td>18.5</td>\n",
              "      <td>18.5</td>\n",
              "      <td>52.5</td>\n",
              "      <td>22.0</td>\n",
              "      <td>1.0</td>\n",
              "      <td>0.0</td>\n",
              "      <td>0.0</td>\n",
              "      <td>0.0</td>\n",
              "      <td>18</td>\n",
              "    </tr>\n",
              "    <tr>\n",
              "      <th>3844</th>\n",
              "      <td>2015-06-13 15:00:00</td>\n",
              "      <td>2491</td>\n",
              "      <td>19.5</td>\n",
              "      <td>19.5</td>\n",
              "      <td>64.0</td>\n",
              "      <td>23.0</td>\n",
              "      <td>3.0</td>\n",
              "      <td>0.0</td>\n",
              "      <td>1.0</td>\n",
              "      <td>1.0</td>\n",
              "      <td>15</td>\n",
              "    </tr>\n",
              "  </tbody>\n",
              "</table>\n",
              "</div>"
            ],
            "text/plain": [
              "                timestamp   cnt    t1  ...  is_weekend  season  hour\n",
              "12194 2016-05-28 23:00:00   789  14.0  ...         1.0     0.0    23\n",
              "17198 2016-12-26 00:00:00   371  13.0  ...         0.0     3.0     0\n",
              "11544 2016-05-01 21:00:00   601  12.0  ...         1.0     0.0    21\n",
              "2831  2015-05-02 07:00:00   215   7.5  ...         1.0     0.0     7\n",
              "11661 2016-05-06 18:00:00  4136  18.5  ...         0.0     0.0    18\n",
              "3844  2015-06-13 15:00:00  2491  19.5  ...         1.0     1.0    15\n",
              "\n",
              "[6 rows x 11 columns]"
            ]
          },
          "metadata": {
            "tags": []
          },
          "execution_count": 12
        }
      ]
    },
    {
      "cell_type": "code",
      "metadata": {
        "colab": {
          "base_uri": "https://localhost:8080/",
          "height": 419
        },
        "id": "Jj_z6pYtvTNk",
        "outputId": "f75ac026-8d49-4ff4-9a7b-3d102b797cd7"
      },
      "source": [
        "#crea un nuevo dt con las columnas desde la 2da al final\n",
        "df = df_london_bike.iloc[:,1:]\n",
        "df"
      ],
      "execution_count": null,
      "outputs": [
        {
          "output_type": "execute_result",
          "data": {
            "text/html": [
              "<div>\n",
              "<style scoped>\n",
              "    .dataframe tbody tr th:only-of-type {\n",
              "        vertical-align: middle;\n",
              "    }\n",
              "\n",
              "    .dataframe tbody tr th {\n",
              "        vertical-align: top;\n",
              "    }\n",
              "\n",
              "    .dataframe thead th {\n",
              "        text-align: right;\n",
              "    }\n",
              "</style>\n",
              "<table border=\"1\" class=\"dataframe\">\n",
              "  <thead>\n",
              "    <tr style=\"text-align: right;\">\n",
              "      <th></th>\n",
              "      <th>cnt</th>\n",
              "      <th>t1</th>\n",
              "      <th>t2</th>\n",
              "      <th>hum</th>\n",
              "      <th>wind_speed</th>\n",
              "      <th>weather_code</th>\n",
              "      <th>is_holiday</th>\n",
              "      <th>is_weekend</th>\n",
              "      <th>season</th>\n",
              "      <th>hour</th>\n",
              "    </tr>\n",
              "  </thead>\n",
              "  <tbody>\n",
              "    <tr>\n",
              "      <th>0</th>\n",
              "      <td>182</td>\n",
              "      <td>3.0</td>\n",
              "      <td>2.0</td>\n",
              "      <td>93.0</td>\n",
              "      <td>6.0</td>\n",
              "      <td>3.0</td>\n",
              "      <td>0.0</td>\n",
              "      <td>1.0</td>\n",
              "      <td>3.0</td>\n",
              "      <td>0</td>\n",
              "    </tr>\n",
              "    <tr>\n",
              "      <th>1</th>\n",
              "      <td>138</td>\n",
              "      <td>3.0</td>\n",
              "      <td>2.5</td>\n",
              "      <td>93.0</td>\n",
              "      <td>5.0</td>\n",
              "      <td>1.0</td>\n",
              "      <td>0.0</td>\n",
              "      <td>1.0</td>\n",
              "      <td>3.0</td>\n",
              "      <td>1</td>\n",
              "    </tr>\n",
              "    <tr>\n",
              "      <th>2</th>\n",
              "      <td>134</td>\n",
              "      <td>2.5</td>\n",
              "      <td>2.5</td>\n",
              "      <td>96.5</td>\n",
              "      <td>0.0</td>\n",
              "      <td>1.0</td>\n",
              "      <td>0.0</td>\n",
              "      <td>1.0</td>\n",
              "      <td>3.0</td>\n",
              "      <td>2</td>\n",
              "    </tr>\n",
              "    <tr>\n",
              "      <th>3</th>\n",
              "      <td>72</td>\n",
              "      <td>2.0</td>\n",
              "      <td>2.0</td>\n",
              "      <td>100.0</td>\n",
              "      <td>0.0</td>\n",
              "      <td>1.0</td>\n",
              "      <td>0.0</td>\n",
              "      <td>1.0</td>\n",
              "      <td>3.0</td>\n",
              "      <td>3</td>\n",
              "    </tr>\n",
              "    <tr>\n",
              "      <th>4</th>\n",
              "      <td>47</td>\n",
              "      <td>2.0</td>\n",
              "      <td>0.0</td>\n",
              "      <td>93.0</td>\n",
              "      <td>6.5</td>\n",
              "      <td>1.0</td>\n",
              "      <td>0.0</td>\n",
              "      <td>1.0</td>\n",
              "      <td>3.0</td>\n",
              "      <td>4</td>\n",
              "    </tr>\n",
              "    <tr>\n",
              "      <th>...</th>\n",
              "      <td>...</td>\n",
              "      <td>...</td>\n",
              "      <td>...</td>\n",
              "      <td>...</td>\n",
              "      <td>...</td>\n",
              "      <td>...</td>\n",
              "      <td>...</td>\n",
              "      <td>...</td>\n",
              "      <td>...</td>\n",
              "      <td>...</td>\n",
              "    </tr>\n",
              "    <tr>\n",
              "      <th>17409</th>\n",
              "      <td>1042</td>\n",
              "      <td>5.0</td>\n",
              "      <td>1.0</td>\n",
              "      <td>81.0</td>\n",
              "      <td>19.0</td>\n",
              "      <td>3.0</td>\n",
              "      <td>0.0</td>\n",
              "      <td>0.0</td>\n",
              "      <td>3.0</td>\n",
              "      <td>19</td>\n",
              "    </tr>\n",
              "    <tr>\n",
              "      <th>17410</th>\n",
              "      <td>541</td>\n",
              "      <td>5.0</td>\n",
              "      <td>1.0</td>\n",
              "      <td>81.0</td>\n",
              "      <td>21.0</td>\n",
              "      <td>4.0</td>\n",
              "      <td>0.0</td>\n",
              "      <td>0.0</td>\n",
              "      <td>3.0</td>\n",
              "      <td>20</td>\n",
              "    </tr>\n",
              "    <tr>\n",
              "      <th>17411</th>\n",
              "      <td>337</td>\n",
              "      <td>5.5</td>\n",
              "      <td>1.5</td>\n",
              "      <td>78.5</td>\n",
              "      <td>24.0</td>\n",
              "      <td>4.0</td>\n",
              "      <td>0.0</td>\n",
              "      <td>0.0</td>\n",
              "      <td>3.0</td>\n",
              "      <td>21</td>\n",
              "    </tr>\n",
              "    <tr>\n",
              "      <th>17412</th>\n",
              "      <td>224</td>\n",
              "      <td>5.5</td>\n",
              "      <td>1.5</td>\n",
              "      <td>76.0</td>\n",
              "      <td>23.0</td>\n",
              "      <td>4.0</td>\n",
              "      <td>0.0</td>\n",
              "      <td>0.0</td>\n",
              "      <td>3.0</td>\n",
              "      <td>22</td>\n",
              "    </tr>\n",
              "    <tr>\n",
              "      <th>17413</th>\n",
              "      <td>139</td>\n",
              "      <td>5.0</td>\n",
              "      <td>1.0</td>\n",
              "      <td>76.0</td>\n",
              "      <td>22.0</td>\n",
              "      <td>2.0</td>\n",
              "      <td>0.0</td>\n",
              "      <td>0.0</td>\n",
              "      <td>3.0</td>\n",
              "      <td>23</td>\n",
              "    </tr>\n",
              "  </tbody>\n",
              "</table>\n",
              "<p>17414 rows × 10 columns</p>\n",
              "</div>"
            ],
            "text/plain": [
              "        cnt   t1   t2    hum  ...  is_holiday  is_weekend  season  hour\n",
              "0       182  3.0  2.0   93.0  ...         0.0         1.0     3.0     0\n",
              "1       138  3.0  2.5   93.0  ...         0.0         1.0     3.0     1\n",
              "2       134  2.5  2.5   96.5  ...         0.0         1.0     3.0     2\n",
              "3        72  2.0  2.0  100.0  ...         0.0         1.0     3.0     3\n",
              "4        47  2.0  0.0   93.0  ...         0.0         1.0     3.0     4\n",
              "...     ...  ...  ...    ...  ...         ...         ...     ...   ...\n",
              "17409  1042  5.0  1.0   81.0  ...         0.0         0.0     3.0    19\n",
              "17410   541  5.0  1.0   81.0  ...         0.0         0.0     3.0    20\n",
              "17411   337  5.5  1.5   78.5  ...         0.0         0.0     3.0    21\n",
              "17412   224  5.5  1.5   76.0  ...         0.0         0.0     3.0    22\n",
              "17413   139  5.0  1.0   76.0  ...         0.0         0.0     3.0    23\n",
              "\n",
              "[17414 rows x 10 columns]"
            ]
          },
          "metadata": {
            "tags": []
          },
          "execution_count": 14
        }
      ]
    },
    {
      "cell_type": "code",
      "metadata": {
        "colab": {
          "base_uri": "https://localhost:8080/"
        },
        "id": "oIri3DlewgRp",
        "outputId": "94924406-0c1c-429e-ba52-f70475089742"
      },
      "source": [
        "#Potencias y matematicas con numpy\n",
        "np.sin(df['wind_speed']**2)+10"
      ],
      "execution_count": null,
      "outputs": [
        {
          "output_type": "execute_result",
          "data": {
            "text/plain": [
              "0         9.008221\n",
              "1         9.867648\n",
              "2        10.000000\n",
              "3        10.000000\n",
              "4         9.013013\n",
              "           ...    \n",
              "17409    10.279387\n",
              "17410    10.923470\n",
              "17411     9.114047\n",
              "17412    10.936473\n",
              "17413    10.193503\n",
              "Name: wind_speed, Length: 17414, dtype: float64"
            ]
          },
          "metadata": {
            "tags": []
          },
          "execution_count": 19
        }
      ]
    },
    {
      "cell_type": "code",
      "metadata": {
        "colab": {
          "base_uri": "https://localhost:8080/"
        },
        "id": "2HZzjQozwgT6",
        "outputId": "99ad3c97-2dc4-4ca0-8280-0669cd660c38"
      },
      "source": [
        "df['t1']-df['t2']"
      ],
      "execution_count": null,
      "outputs": [
        {
          "output_type": "execute_result",
          "data": {
            "text/plain": [
              "0        1.0\n",
              "1        0.5\n",
              "2        0.0\n",
              "3        0.0\n",
              "4        2.0\n",
              "        ... \n",
              "17409    4.0\n",
              "17410    4.0\n",
              "17411    4.0\n",
              "17412    4.0\n",
              "17413    4.0\n",
              "Length: 17414, dtype: float64"
            ]
          },
          "metadata": {
            "tags": []
          },
          "execution_count": 20
        }
      ]
    },
    {
      "cell_type": "code",
      "metadata": {
        "colab": {
          "base_uri": "https://localhost:8080/"
        },
        "id": "FGwaZS85wgWd",
        "outputId": "d3cb4c81-95a7-44e9-9bff-67d4f779fcd3"
      },
      "source": [
        "#seleccion solo de indices pares (N)\n",
        "df['t1'].iloc[::3]-df['t2']\n"
      ],
      "execution_count": null,
      "outputs": [
        {
          "output_type": "execute_result",
          "data": {
            "text/plain": [
              "0        1.0\n",
              "1        NaN\n",
              "2        NaN\n",
              "3        0.0\n",
              "4        NaN\n",
              "        ... \n",
              "17409    4.0\n",
              "17410    NaN\n",
              "17411    NaN\n",
              "17412    4.0\n",
              "17413    NaN\n",
              "Length: 17414, dtype: float64"
            ]
          },
          "metadata": {
            "tags": []
          },
          "execution_count": 25
        }
      ]
    },
    {
      "cell_type": "code",
      "metadata": {
        "colab": {
          "base_uri": "https://localhost:8080/"
        },
        "id": "d4wLw5uGxQSj",
        "outputId": "75339d94-1ac6-441a-c65b-c3a8792b7246"
      },
      "source": [
        "#seleccion solo de indices pares (N) y resta con pandas para que no salga NAN\n",
        "df['t1'].iloc[::3].sub(df['t2'],fill_value=1000)"
      ],
      "execution_count": null,
      "outputs": [
        {
          "output_type": "execute_result",
          "data": {
            "text/plain": [
              "0           1.0\n",
              "1         997.5\n",
              "2         997.5\n",
              "3           0.0\n",
              "4        1000.0\n",
              "          ...  \n",
              "17409       4.0\n",
              "17410     999.0\n",
              "17411     998.5\n",
              "17412       4.0\n",
              "17413     999.0\n",
              "Length: 17414, dtype: float64"
            ]
          },
          "metadata": {
            "tags": []
          },
          "execution_count": 28
        }
      ]
    },
    {
      "cell_type": "code",
      "metadata": {
        "colab": {
          "base_uri": "https://localhost:8080/"
        },
        "id": "eznNwmJNxQVD",
        "outputId": "84e5095b-a7e7-4097-c7aa-5919ca499da9"
      },
      "source": [
        "#Division\n",
        "df['t1']/df['t2']"
      ],
      "execution_count": null,
      "outputs": [
        {
          "output_type": "execute_result",
          "data": {
            "text/plain": [
              "0        1.500000\n",
              "1        1.200000\n",
              "2        1.000000\n",
              "3        1.000000\n",
              "4             inf\n",
              "           ...   \n",
              "17409    5.000000\n",
              "17410    5.000000\n",
              "17411    3.666667\n",
              "17412    3.666667\n",
              "17413    5.000000\n",
              "Length: 17414, dtype: float64"
            ]
          },
          "metadata": {
            "tags": []
          },
          "execution_count": 29
        }
      ]
    },
    {
      "cell_type": "code",
      "metadata": {
        "colab": {
          "base_uri": "https://localhost:8080/"
        },
        "id": "HMMxFjXqxQXg",
        "outputId": "0584d183-1638-4f5c-b475-863bbad9bf42"
      },
      "source": [
        "#Produto Punto/Escalar\n",
        "df['t1'].dot(df['t1'])"
      ],
      "execution_count": null,
      "outputs": [
        {
          "output_type": "execute_result",
          "data": {
            "text/plain": [
              "3247652.777777778"
            ]
          },
          "metadata": {
            "tags": []
          },
          "execution_count": 30
        }
      ]
    },
    {
      "cell_type": "code",
      "metadata": {
        "id": "SBBT3Y1JwgZR"
      },
      "source": [
        "#Funciones más complejas y lambdas\n",
        "def fun_1(x):\n",
        "  y =x**2+1\n",
        "  return y\n"
      ],
      "execution_count": null,
      "outputs": []
    },
    {
      "cell_type": "code",
      "metadata": {
        "colab": {
          "base_uri": "https://localhost:8080/"
        },
        "id": "J44hBkiuwghO",
        "outputId": "3feb20e1-f1ce-49be-efaa-8274f470e16e"
      },
      "source": [
        "fun_1(10)"
      ],
      "execution_count": null,
      "outputs": [
        {
          "output_type": "execute_result",
          "data": {
            "text/plain": [
              "101"
            ]
          },
          "metadata": {
            "tags": []
          },
          "execution_count": 40
        }
      ]
    },
    {
      "cell_type": "code",
      "metadata": {
        "colab": {
          "base_uri": "https://localhost:8080/"
        },
        "id": "nlpZ9h8Iwgjh",
        "outputId": "fd6bff78-58a1-4d34-b82d-28522114b0d7"
      },
      "source": [
        "#Vector\n",
        "np.arange(-5,6).shape"
      ],
      "execution_count": null,
      "outputs": [
        {
          "output_type": "execute_result",
          "data": {
            "text/plain": [
              "(11,)"
            ]
          },
          "metadata": {
            "tags": []
          },
          "execution_count": 37
        }
      ]
    },
    {
      "cell_type": "code",
      "metadata": {
        "colab": {
          "base_uri": "https://localhost:8080/"
        },
        "id": "dRXC6WKWwglo",
        "outputId": "9440c2c9-03dd-4fc5-e0b3-2ac204c42b56"
      },
      "source": [
        "fun_1(np.arange(-5,6))"
      ],
      "execution_count": null,
      "outputs": [
        {
          "output_type": "execute_result",
          "data": {
            "text/plain": [
              "array([26, 17, 10,  5,  2,  1,  2,  5, 10, 17, 26])"
            ]
          },
          "metadata": {
            "tags": []
          },
          "execution_count": 41
        }
      ]
    },
    {
      "cell_type": "code",
      "metadata": {
        "colab": {
          "base_uri": "https://localhost:8080/"
        },
        "id": "A6HRcKM-wgoJ",
        "outputId": "df1d76a8-40d0-4f8a-b0ca-1c855343ac60"
      },
      "source": [
        "df['hour'].apply(fun_1)"
      ],
      "execution_count": null,
      "outputs": [
        {
          "output_type": "execute_result",
          "data": {
            "text/plain": [
              "0          1\n",
              "1          2\n",
              "2          5\n",
              "3         10\n",
              "4         17\n",
              "        ... \n",
              "17409    362\n",
              "17410    401\n",
              "17411    442\n",
              "17412    485\n",
              "17413    530\n",
              "Name: hour, Length: 17414, dtype: int64"
            ]
          },
          "metadata": {
            "tags": []
          },
          "execution_count": 42
        }
      ]
    },
    {
      "cell_type": "code",
      "metadata": {
        "id": "jC-iiUuSwgqz"
      },
      "source": [
        "def fun_2(x,a=1,b=0):\n",
        "  y=x**2+a*x+b\n",
        "  return y\n"
      ],
      "execution_count": null,
      "outputs": []
    },
    {
      "cell_type": "code",
      "metadata": {
        "colab": {
          "base_uri": "https://localhost:8080/"
        },
        "id": "9YE9UXK-0Oq-",
        "outputId": "3ea1c4b0-8bed-4618-c324-ca4a04e92077"
      },
      "source": [
        "fun_2(100,a=4,b=8)"
      ],
      "execution_count": null,
      "outputs": [
        {
          "output_type": "execute_result",
          "data": {
            "text/plain": [
              "10408"
            ]
          },
          "metadata": {
            "tags": []
          },
          "execution_count": 46
        }
      ]
    },
    {
      "cell_type": "code",
      "metadata": {
        "colab": {
          "base_uri": "https://localhost:8080/"
        },
        "id": "PnxhS9KP0EPM",
        "outputId": "fdb808f4-a7c3-4333-a463-0407743f10cd"
      },
      "source": [
        "df['hour'].apply(fun_2,args=(20,-100))"
      ],
      "execution_count": null,
      "outputs": [
        {
          "output_type": "execute_result",
          "data": {
            "text/plain": [
              "0       -100\n",
              "1        -79\n",
              "2        -56\n",
              "3        -31\n",
              "4         -4\n",
              "        ... \n",
              "17409    641\n",
              "17410    700\n",
              "17411    761\n",
              "17412    824\n",
              "17413    889\n",
              "Name: hour, Length: 17414, dtype: int64"
            ]
          },
          "metadata": {
            "tags": []
          },
          "execution_count": 47
        }
      ]
    },
    {
      "cell_type": "code",
      "metadata": {
        "colab": {
          "base_uri": "https://localhost:8080/"
        },
        "id": "jzmjGEuZ0EMW",
        "outputId": "b29f27c4-dc10-45ed-cf15-385145ca8d67"
      },
      "source": [
        "#same\n",
        "df['hour'].apply(fun_2,a=20,b=-100)"
      ],
      "execution_count": null,
      "outputs": [
        {
          "output_type": "execute_result",
          "data": {
            "text/plain": [
              "0       -100\n",
              "1        -79\n",
              "2        -56\n",
              "3        -31\n",
              "4         -4\n",
              "        ... \n",
              "17409    641\n",
              "17410    700\n",
              "17411    761\n",
              "17412    824\n",
              "17413    889\n",
              "Name: hour, Length: 17414, dtype: int64"
            ]
          },
          "metadata": {
            "tags": []
          },
          "execution_count": 48
        }
      ]
    },
    {
      "cell_type": "code",
      "metadata": {
        "colab": {
          "base_uri": "https://localhost:8080/"
        },
        "id": "9puz_66J0EKs",
        "outputId": "25c2806d-9dce-473f-d2fa-dd76e46c88fc"
      },
      "source": [
        "#funciones lamdas\n",
        "\n",
        "df['t1'].apply(lambda x: x+273)"
      ],
      "execution_count": null,
      "outputs": [
        {
          "output_type": "execute_result",
          "data": {
            "text/plain": [
              "0        276.0\n",
              "1        276.0\n",
              "2        275.5\n",
              "3        275.0\n",
              "4        275.0\n",
              "         ...  \n",
              "17409    278.0\n",
              "17410    278.0\n",
              "17411    278.5\n",
              "17412    278.5\n",
              "17413    278.0\n",
              "Name: t1, Length: 17414, dtype: float64"
            ]
          },
          "metadata": {
            "tags": []
          },
          "execution_count": 49
        }
      ]
    },
    {
      "cell_type": "code",
      "metadata": {
        "colab": {
          "base_uri": "https://localhost:8080/"
        },
        "id": "1fqTRGhV0EH1",
        "outputId": "3795e5df-34e8-4604-95a9-0237d0d778be"
      },
      "source": [
        "##Funcion a todo el df\n",
        "\n",
        "df.apply(lambda x: x.mean())"
      ],
      "execution_count": null,
      "outputs": [
        {
          "output_type": "execute_result",
          "data": {
            "text/plain": [
              "cnt             1143.101642\n",
              "t1                12.468091\n",
              "t2                11.520836\n",
              "hum               72.324954\n",
              "wind_speed        15.913063\n",
              "weather_code       2.722752\n",
              "is_holiday         0.022051\n",
              "is_weekend         0.285403\n",
              "season             1.492075\n",
              "hour              11.513265\n",
              "dtype: float64"
            ]
          },
          "metadata": {
            "tags": []
          },
          "execution_count": 50
        }
      ]
    },
    {
      "cell_type": "code",
      "metadata": {
        "colab": {
          "base_uri": "https://localhost:8080/"
        },
        "id": "n6esX9ki0EFb",
        "outputId": "da18bed7-3712-4b22-f6b5-140974fd34e8"
      },
      "source": [
        "df.apply(lambda x: x.mean(),axis='columns')"
      ],
      "execution_count": null,
      "outputs": [
        {
          "output_type": "execute_result",
          "data": {
            "text/plain": [
              "0         29.30\n",
              "1         24.75\n",
              "2         24.25\n",
              "3         18.40\n",
              "4         15.75\n",
              "          ...  \n",
              "17409    117.30\n",
              "17410     67.60\n",
              "17411     47.45\n",
              "17412     35.90\n",
              "17413     27.10\n",
              "Length: 17414, dtype: float64"
            ]
          },
          "metadata": {
            "tags": []
          },
          "execution_count": 53
        }
      ]
    },
    {
      "cell_type": "code",
      "metadata": {
        "colab": {
          "base_uri": "https://localhost:8080/"
        },
        "id": "PPi4Fcei0EC0",
        "outputId": "8d789b74-8142-49ce-97d6-9afe3e569146"
      },
      "source": [
        "df.apply(lambda x: x.std(),axis='columns')"
      ],
      "execution_count": null,
      "outputs": [
        {
          "output_type": "execute_result",
          "data": {
            "text/plain": [
              "0         60.787517\n",
              "1         49.012045\n",
              "2         48.779692\n",
              "3         36.249751\n",
              "4         30.642427\n",
              "            ...    \n",
              "17409    325.831944\n",
              "17410    168.138964\n",
              "17411    104.504505\n",
              "17412     70.027296\n",
              "17413     45.710320\n",
              "Length: 17414, dtype: float64"
            ]
          },
          "metadata": {
            "tags": []
          },
          "execution_count": 54
        }
      ]
    },
    {
      "cell_type": "code",
      "metadata": {
        "colab": {
          "base_uri": "https://localhost:8080/"
        },
        "id": "I4JQBiOj0D-a",
        "outputId": "bd8a7854-08f4-4575-9b96-b62ae15f2a53"
      },
      "source": [
        "df.apply(lambda x: x['t1']-x['t2'],axis='columns')"
      ],
      "execution_count": null,
      "outputs": [
        {
          "output_type": "execute_result",
          "data": {
            "text/plain": [
              "0        1.0\n",
              "1        0.5\n",
              "2        0.0\n",
              "3        0.0\n",
              "4        2.0\n",
              "        ... \n",
              "17409    4.0\n",
              "17410    4.0\n",
              "17411    4.0\n",
              "17412    4.0\n",
              "17413    4.0\n",
              "Length: 17414, dtype: float64"
            ]
          },
          "metadata": {
            "tags": []
          },
          "execution_count": 55
        }
      ]
    },
    {
      "cell_type": "code",
      "metadata": {
        "colab": {
          "base_uri": "https://localhost:8080/",
          "height": 419
        },
        "id": "n1RGMme01lcz",
        "outputId": "fe1d58ab-2b1e-4415-e43c-d1df0ef46603"
      },
      "source": [
        "#Aplciar las funiones a todas las columnas de forma independiente\n",
        "df.applymap(lambda x: x/1000)"
      ],
      "execution_count": null,
      "outputs": [
        {
          "output_type": "execute_result",
          "data": {
            "text/html": [
              "<div>\n",
              "<style scoped>\n",
              "    .dataframe tbody tr th:only-of-type {\n",
              "        vertical-align: middle;\n",
              "    }\n",
              "\n",
              "    .dataframe tbody tr th {\n",
              "        vertical-align: top;\n",
              "    }\n",
              "\n",
              "    .dataframe thead th {\n",
              "        text-align: right;\n",
              "    }\n",
              "</style>\n",
              "<table border=\"1\" class=\"dataframe\">\n",
              "  <thead>\n",
              "    <tr style=\"text-align: right;\">\n",
              "      <th></th>\n",
              "      <th>cnt</th>\n",
              "      <th>t1</th>\n",
              "      <th>t2</th>\n",
              "      <th>hum</th>\n",
              "      <th>wind_speed</th>\n",
              "      <th>weather_code</th>\n",
              "      <th>is_holiday</th>\n",
              "      <th>is_weekend</th>\n",
              "      <th>season</th>\n",
              "      <th>hour</th>\n",
              "    </tr>\n",
              "  </thead>\n",
              "  <tbody>\n",
              "    <tr>\n",
              "      <th>0</th>\n",
              "      <td>0.182</td>\n",
              "      <td>0.0030</td>\n",
              "      <td>0.0020</td>\n",
              "      <td>0.0930</td>\n",
              "      <td>0.0060</td>\n",
              "      <td>0.003</td>\n",
              "      <td>0.0</td>\n",
              "      <td>0.001</td>\n",
              "      <td>0.003</td>\n",
              "      <td>0.000</td>\n",
              "    </tr>\n",
              "    <tr>\n",
              "      <th>1</th>\n",
              "      <td>0.138</td>\n",
              "      <td>0.0030</td>\n",
              "      <td>0.0025</td>\n",
              "      <td>0.0930</td>\n",
              "      <td>0.0050</td>\n",
              "      <td>0.001</td>\n",
              "      <td>0.0</td>\n",
              "      <td>0.001</td>\n",
              "      <td>0.003</td>\n",
              "      <td>0.001</td>\n",
              "    </tr>\n",
              "    <tr>\n",
              "      <th>2</th>\n",
              "      <td>0.134</td>\n",
              "      <td>0.0025</td>\n",
              "      <td>0.0025</td>\n",
              "      <td>0.0965</td>\n",
              "      <td>0.0000</td>\n",
              "      <td>0.001</td>\n",
              "      <td>0.0</td>\n",
              "      <td>0.001</td>\n",
              "      <td>0.003</td>\n",
              "      <td>0.002</td>\n",
              "    </tr>\n",
              "    <tr>\n",
              "      <th>3</th>\n",
              "      <td>0.072</td>\n",
              "      <td>0.0020</td>\n",
              "      <td>0.0020</td>\n",
              "      <td>0.1000</td>\n",
              "      <td>0.0000</td>\n",
              "      <td>0.001</td>\n",
              "      <td>0.0</td>\n",
              "      <td>0.001</td>\n",
              "      <td>0.003</td>\n",
              "      <td>0.003</td>\n",
              "    </tr>\n",
              "    <tr>\n",
              "      <th>4</th>\n",
              "      <td>0.047</td>\n",
              "      <td>0.0020</td>\n",
              "      <td>0.0000</td>\n",
              "      <td>0.0930</td>\n",
              "      <td>0.0065</td>\n",
              "      <td>0.001</td>\n",
              "      <td>0.0</td>\n",
              "      <td>0.001</td>\n",
              "      <td>0.003</td>\n",
              "      <td>0.004</td>\n",
              "    </tr>\n",
              "    <tr>\n",
              "      <th>...</th>\n",
              "      <td>...</td>\n",
              "      <td>...</td>\n",
              "      <td>...</td>\n",
              "      <td>...</td>\n",
              "      <td>...</td>\n",
              "      <td>...</td>\n",
              "      <td>...</td>\n",
              "      <td>...</td>\n",
              "      <td>...</td>\n",
              "      <td>...</td>\n",
              "    </tr>\n",
              "    <tr>\n",
              "      <th>17409</th>\n",
              "      <td>1.042</td>\n",
              "      <td>0.0050</td>\n",
              "      <td>0.0010</td>\n",
              "      <td>0.0810</td>\n",
              "      <td>0.0190</td>\n",
              "      <td>0.003</td>\n",
              "      <td>0.0</td>\n",
              "      <td>0.000</td>\n",
              "      <td>0.003</td>\n",
              "      <td>0.019</td>\n",
              "    </tr>\n",
              "    <tr>\n",
              "      <th>17410</th>\n",
              "      <td>0.541</td>\n",
              "      <td>0.0050</td>\n",
              "      <td>0.0010</td>\n",
              "      <td>0.0810</td>\n",
              "      <td>0.0210</td>\n",
              "      <td>0.004</td>\n",
              "      <td>0.0</td>\n",
              "      <td>0.000</td>\n",
              "      <td>0.003</td>\n",
              "      <td>0.020</td>\n",
              "    </tr>\n",
              "    <tr>\n",
              "      <th>17411</th>\n",
              "      <td>0.337</td>\n",
              "      <td>0.0055</td>\n",
              "      <td>0.0015</td>\n",
              "      <td>0.0785</td>\n",
              "      <td>0.0240</td>\n",
              "      <td>0.004</td>\n",
              "      <td>0.0</td>\n",
              "      <td>0.000</td>\n",
              "      <td>0.003</td>\n",
              "      <td>0.021</td>\n",
              "    </tr>\n",
              "    <tr>\n",
              "      <th>17412</th>\n",
              "      <td>0.224</td>\n",
              "      <td>0.0055</td>\n",
              "      <td>0.0015</td>\n",
              "      <td>0.0760</td>\n",
              "      <td>0.0230</td>\n",
              "      <td>0.004</td>\n",
              "      <td>0.0</td>\n",
              "      <td>0.000</td>\n",
              "      <td>0.003</td>\n",
              "      <td>0.022</td>\n",
              "    </tr>\n",
              "    <tr>\n",
              "      <th>17413</th>\n",
              "      <td>0.139</td>\n",
              "      <td>0.0050</td>\n",
              "      <td>0.0010</td>\n",
              "      <td>0.0760</td>\n",
              "      <td>0.0220</td>\n",
              "      <td>0.002</td>\n",
              "      <td>0.0</td>\n",
              "      <td>0.000</td>\n",
              "      <td>0.003</td>\n",
              "      <td>0.023</td>\n",
              "    </tr>\n",
              "  </tbody>\n",
              "</table>\n",
              "<p>17414 rows × 10 columns</p>\n",
              "</div>"
            ],
            "text/plain": [
              "         cnt      t1      t2     hum  ...  is_holiday  is_weekend  season   hour\n",
              "0      0.182  0.0030  0.0020  0.0930  ...         0.0       0.001   0.003  0.000\n",
              "1      0.138  0.0030  0.0025  0.0930  ...         0.0       0.001   0.003  0.001\n",
              "2      0.134  0.0025  0.0025  0.0965  ...         0.0       0.001   0.003  0.002\n",
              "3      0.072  0.0020  0.0020  0.1000  ...         0.0       0.001   0.003  0.003\n",
              "4      0.047  0.0020  0.0000  0.0930  ...         0.0       0.001   0.003  0.004\n",
              "...      ...     ...     ...     ...  ...         ...         ...     ...    ...\n",
              "17409  1.042  0.0050  0.0010  0.0810  ...         0.0       0.000   0.003  0.019\n",
              "17410  0.541  0.0050  0.0010  0.0810  ...         0.0       0.000   0.003  0.020\n",
              "17411  0.337  0.0055  0.0015  0.0785  ...         0.0       0.000   0.003  0.021\n",
              "17412  0.224  0.0055  0.0015  0.0760  ...         0.0       0.000   0.003  0.022\n",
              "17413  0.139  0.0050  0.0010  0.0760  ...         0.0       0.000   0.003  0.023\n",
              "\n",
              "[17414 rows x 10 columns]"
            ]
          },
          "metadata": {
            "tags": []
          },
          "execution_count": 56
        }
      ]
    },
    {
      "cell_type": "code",
      "metadata": {
        "id": "EZgSl__b1lfI"
      },
      "source": [
        ""
      ],
      "execution_count": null,
      "outputs": []
    },
    {
      "cell_type": "code",
      "metadata": {
        "id": "Gg5f02U71lhj"
      },
      "source": [
        ""
      ],
      "execution_count": null,
      "outputs": []
    },
    {
      "cell_type": "code",
      "metadata": {
        "id": "aDfb4WBR1lkK"
      },
      "source": [
        ""
      ],
      "execution_count": null,
      "outputs": []
    },
    {
      "cell_type": "code",
      "metadata": {
        "id": "9Q46Mnhp1lmf"
      },
      "source": [
        ""
      ],
      "execution_count": null,
      "outputs": []
    },
    {
      "cell_type": "code",
      "metadata": {
        "id": "X_n1aH5n1lpU"
      },
      "source": [
        ""
      ],
      "execution_count": null,
      "outputs": []
    },
    {
      "cell_type": "code",
      "metadata": {
        "id": "B9lO5FgU1lrf"
      },
      "source": [
        ""
      ],
      "execution_count": null,
      "outputs": []
    }
  ]
}